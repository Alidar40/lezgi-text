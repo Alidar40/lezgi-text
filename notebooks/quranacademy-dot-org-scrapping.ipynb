{
 "cells": [
  {
   "cell_type": "code",
   "execution_count": 1,
   "id": "14bac6ba-3aac-46cf-ad50-7fa6ef48f637",
   "metadata": {},
   "outputs": [],
   "source": [
    "import requests\n",
    "import json\n",
    "from pathlib import Path\n",
    "import re\n",
    "\n",
    "from bs4 import BeautifulSoup\n",
    "from sacremoses import MosesPunctNormalizer\n",
    "import unicodedata"
   ]
  },
  {
   "cell_type": "code",
   "execution_count": 3,
   "id": "d1da1216-ee60-4239-bcd9-05483f88dab1",
   "metadata": {},
   "outputs": [],
   "source": [
    "DOWNLOAD_DIR = Path(\"../data/raw/quran\")\n",
    "DOWNLOAD_DIR.mkdir(exist_ok=True, parents=True)\n",
    "\n",
    "PROCESSED_DIR = Path(\"../data/processed/\")\n",
    "PROCESSED_DIR.mkdir(exist_ok=True, parents=True)\n",
    "\n",
    "LANGUAGE_CODES = [\n",
    "    'lez-yamen',\n",
    "    'ru-kuliev',\n",
    "    'ru-abu-adel',\n",
    "    'az-musayev',\n",
    "    'en-saheeh-international',\n",
    "]"
   ]
  },
  {
   "cell_type": "markdown",
   "id": "9d56fd74-8f86-45de-8b46-61e8b78e0e6f",
   "metadata": {},
   "source": [
    "## Scrapping"
   ]
  },
  {
   "cell_type": "code",
   "execution_count": 4,
   "id": "2ebc91fc-cdb8-4a1c-bfef-643e54b609e2",
   "metadata": {},
   "outputs": [],
   "source": [
    "# https://quranacademy.gitbook.io/digital-quran/api/getting-started\n",
    "ACCESS_TOKEN = \"your-access-token\"\n",
    "\n",
    "API_URL = \"http://digital-quran.quranacademy.org\"\n",
    "VERIFY = False"
   ]
  },
  {
   "cell_type": "code",
   "execution_count": 5,
   "id": "beeb65ce-8049-4997-8302-926d2395f624",
   "metadata": {},
   "outputs": [],
   "source": [
    "# how to get an id of a language code?\n",
    "# look for it in the inspector and network tabs\n",
    "# of your browser's web developer tools\n",
    "lang_code2id = {\n",
    "    'lez-yamen': 69,\n",
    "    'ru-kuliev': 3,\n",
    "    'ru-abu-adel': 4,\n",
    "    'az-musayev': 54,\n",
    "    'en-saheeh-international': 75,\n",
    "}"
   ]
  },
  {
   "cell_type": "code",
   "execution_count": 11,
   "id": "dfd018f0-8ab1-4e72-8eb2-9514a00fb2d8",
   "metadata": {},
   "outputs": [
    {
     "name": "stderr",
     "output_type": "stream",
     "text": [
      "/Users/alidar/Projects/quranparser_lez/venv/lib/python3.12/site-packages/urllib3/connectionpool.py:1099: InsecureRequestWarning: Unverified HTTPS request is being made to host 'digital-quran.quranacademy.org'. Adding certificate verification is strongly advised. See: https://urllib3.readthedocs.io/en/latest/advanced-usage.html#tls-warnings\n",
      "  warnings.warn(\n"
     ]
    },
    {
     "data": {
      "text/plain": [
       "{'data': [{'code': 'alouddin-mansur',\n",
       "   'name': 'Алауддин Мансур',\n",
       "   'language': 'uz'},\n",
       "  {'code': 'az-musayev', 'name': 'Алихан Мусаев', 'language': 'az'},\n",
       "  {'code': 'bashkir-translate',\n",
       "   'name': 'Башкирский перевод',\n",
       "   'language': 'ba'},\n",
       "  {'code': 'bg-theophanov', 'name': 'Цветан Теофанов', 'language': 'bg'},\n",
       "  {'code': 'ce-adam-ibragimov', 'name': 'Ибрагимов Адам', 'language': 'ce'},\n",
       "  {'code': 'ce-magomed', 'name': 'Магомед Магомедов', 'language': 'ce'},\n",
       "  {'code': 'de-abu-rida',\n",
       "   'name': 'Абу Рида Мухаммад ибн Ахмад',\n",
       "   'language': 'de'},\n",
       "  {'code': 'de-bubenheim-elyas',\n",
       "   'name': 'Бубенгейм и Эльяс',\n",
       "   'language': 'de'},\n",
       "  {'code': 'de-denfer', 'name': 'Ахмад фон Денфер', 'language': 'de'},\n",
       "  {'code': 'de-zaidan', 'name': 'Амир Заидан', 'language': 'de'},\n",
       "  {'code': 'en-saheeh-international',\n",
       "   'name': 'Сахих Интернешенал',\n",
       "   'language': 'en'},\n",
       "  {'code': 'en-transliteration', 'name': 'Транслит', 'language': 'en'},\n",
       "  {'code': 'es-cortes', 'name': 'Хулио Кортес', 'language': 'es'},\n",
       "  {'code': 'es-garcia', 'name': 'Мухаммад Иса Гарсия', 'language': 'es'},\n",
       "  {'code': 'fr-hamidullah', 'name': 'Мухаммад Хамидуллах', 'language': 'fr'},\n",
       "  {'code': 'kabardin',\n",
       "   'name': 'Хъуажь Мухьэмэдхъейр, Болий Мустафар,  Нало Заур',\n",
       "   'language': 'kbd'},\n",
       "  {'code': 'ka-mikeladze', 'name': 'Резо Микеладзе', 'language': 'ka'},\n",
       "  {'code': 'lez-yamen',\n",
       "   'name': 'Амрагьан хва Ямен Мегьамедов',\n",
       "   'language': 'lez'},\n",
       "  {'code': 'mkhan', 'name': 'Мухеддин Хан', 'language': 'bn'},\n",
       "  {'code': 'mufti-omar-sheriff-qasimi',\n",
       "   'name': 'Муфтий А. Омар Шерифф Касими, Даруль Худа',\n",
       "   'language': 'ta'},\n",
       "  {'code': 'nepal', 'name': 'Ислами Санг Непал', 'language': 'ne'},\n",
       "  {'code': 'ru-abu-adel', 'name': 'Абу Адель', 'language': 'ru'},\n",
       "  {'code': 'ru-kuliev', 'name': 'Эльмир Кулиев', 'language': 'ru'},\n",
       "  {'code': 'ta-abdul-hameed-baqavi', 'name': 'Абдуль Хамид', 'language': 'ta'},\n",
       "  {'code': 'ta-janturst',\n",
       "   'name': 'Перевод Ян Траст Фаундейшн',\n",
       "   'language': 'ta'},\n",
       "  {'code': 'tr-trvakfi',\n",
       "   'name': 'Фонд по делам религии Турции',\n",
       "   'language': 'tr'},\n",
       "  {'code': 'tt-nugman', 'name': 'Йакуб ибн Нугман', 'language': 'tt'},\n",
       "  {'code': 'uk-yakubovych', 'name': 'Михайло Якубович', 'language': 'uk'},\n",
       "  {'code': 'uz-sodik', 'name': 'Мухаммад Содик', 'language': 'uz'}]}"
      ]
     },
     "execution_count": 11,
     "metadata": {},
     "output_type": "execute_result"
    }
   ],
   "source": [
    "translations_response = requests.get(\n",
    "    f\"{API_URL}/translations\",\n",
    "    # params={\"language\": 'ru'},\n",
    "    headers={\n",
    "        \"Access-Token\": ACCESS_TOKEN,\n",
    "        \"Language\": \"lez\",\n",
    "    },\n",
    "    verify=VERIFY,\n",
    ")\n",
    "translations_response.json()"
   ]
  },
  {
   "cell_type": "code",
   "execution_count": null,
   "id": "7b193fa8-7c7c-4b62-999c-169ae9a355c4",
   "metadata": {
    "scrolled": true
   },
   "outputs": [],
   "source": [
    "translations = list()\n",
    "for translation in translations_response.json()[\"data\"]:\n",
    "    lang = translation[\"language\"]\n",
    "    code = translation[\"code\"]\n",
    "    if code not in LANGUAGE_CODES:\n",
    "        continue\n",
    "    print(translation)\n",
    "    response = requests.get(\n",
    "        f\"{API_URL}/surahs\",\n",
    "        headers={\n",
    "            \"Access-Token\": ACCESS_TOKEN,\n",
    "            \"Language\": lang,\n",
    "        },\n",
    "        verify=VERIFY,\n",
    "    )\n",
    "\n",
    "    surahs = response.json()[\"data\"]\n",
    "    for surah in surahs:\n",
    "        surah_number = surah[\"number\"]\n",
    "        ayah_count = surah[\"ayah_count\"]\n",
    "        surah_name = surah[\"name\"][\"translation\"]\n",
    "\n",
    "        output_file_path = DOWNLOAD_DIR / f\"{surah_number}.{code}\"\n",
    "        if output_file_path.exists():\n",
    "            continue\n",
    "        response = requests.get(\n",
    "            \"https://lez.quranacademy.org/quran/js-api/ayat-texts\",\n",
    "            params={\n",
    "                \"sura\": surah_number,\n",
    "                \"start_ayat\": 1,\n",
    "                \"end_ayat\": ayah_count,\n",
    "                \"translation_id\": lang_code2id[code],\n",
    "            },\n",
    "            verify=VERIFY,\n",
    "        )\n",
    "\n",
    "        texts = [a['text'].strip() for a in sorted(response.json(), key=lambda x: int(x['ayahId']))]\n",
    "        assert len(texts) == ayah_count\n",
    "\n",
    "        output_file_path.write_text('\\n'.join([surah_name] + texts))"
   ]
  },
  {
   "cell_type": "markdown",
   "id": "07d568e2-cc37-43b9-ac52-9d59e5f794c1",
   "metadata": {},
   "source": [
    "## Processing"
   ]
  },
  {
   "cell_type": "code",
   "execution_count": 135,
   "id": "361a5792-9ff2-41d8-9142-b4be7fddf937",
   "metadata": {},
   "outputs": [],
   "source": [
    "def clean_html(raw_html):\n",
    "    soup = BeautifulSoup(raw_html, features=\"html.parser\")\n",
    "    for tag in ['div', 'sup', 'span']:\n",
    "        for t in soup.find_all(tag):\n",
    "            t.decompose()\n",
    "    return soup.get_text()\n",
    "\n",
    "def remove_extra_whitespaces(text):\n",
    "    text = text.replace('*', ' ').replace(' .', '.')\n",
    "    text = text.replace(' ,', ',').replace(' !', '!').replace(' ?', '?')\n",
    "    text = re.sub(r' +', ' ', text)\n",
    "    text = '\\n'.join(l.strip() for l in text.split('\\n'))\n",
    "    return text\n",
    "\n",
    "def strip_accents(s):\n",
    "   return ''.join(c for c in unicodedata.normalize('NFD', s)\n",
    "                  if unicodedata.category(c) != 'Mn')"
   ]
  },
  {
   "cell_type": "code",
   "execution_count": 144,
   "id": "662cf36a-6914-419a-81ae-7a87e5df1a58",
   "metadata": {
    "scrolled": true
   },
   "outputs": [],
   "source": [
    "for language_code in LANGUAGE_CODES:\n",
    "    output_file = PROCESSED_DIR / f\"quran.{language_code}\"\n",
    "    # if output_file.exists():\n",
    "    #     continue\n",
    "    output_texts = []\n",
    "\n",
    "    normalizer = MosesPunctNormalizer(\n",
    "        lang=language_code.split('_')[0],\n",
    "        penn=True,\n",
    "        norm_quote_commas=True,\n",
    "        norm_numbers=True,\n",
    "        pre_replace_unicode_punct=False,\n",
    "        post_remove_control_chars=False,\n",
    "        perl_parity=False,\n",
    "    )\n",
    "\n",
    "    for file in sorted(list(DOWNLOAD_DIR.glob(f\"*.{language_code}\")), key=lambda x: int(x.stem.split('.')[0])):\n",
    "        text = file.read_text()\n",
    "        text = clean_html(text)\n",
    "        text = remove_extra_whitespaces(text)\n",
    "        text = normalizer.normalize(text)\n",
    "        # text = strip_accents(text)\n",
    "        output_texts.append(text)\n",
    "    output_file.write_text('\\n'.join(output_texts))"
   ]
  },
  {
   "cell_type": "code",
   "execution_count": 142,
   "id": "2d5d8cc1-97bb-4de4-9184-7f6a87cdc059",
   "metadata": {},
   "outputs": [
    {
     "name": "stdout",
     "output_type": "stream",
     "text": [
      "    6349 ../data/processed/quran/quran.az-musayev\n",
      "    6349 ../data/processed/quran/quran.en-saheeh-international\n",
      "    6349 ../data/processed/quran/quran.lez-yamen\n",
      "    6349 ../data/processed/quran/quran.ru-abu-adel\n",
      "    6349 ../data/processed/quran/quran.ru-kuliev\n",
      "   31745 total\n"
     ]
    }
   ],
   "source": [
    "!wc -l {PROCESSED_DIR}/*.*"
   ]
  },
  {
   "cell_type": "code",
   "execution_count": null,
   "id": "cea902cd-477d-4649-9bfa-9a35dcc5f913",
   "metadata": {},
   "outputs": [],
   "source": []
  }
 ],
 "metadata": {
  "kernelspec": {
   "display_name": "Python 3 (ipykernel)",
   "language": "python",
   "name": "python3"
  },
  "language_info": {
   "codemirror_mode": {
    "name": "ipython",
    "version": 3
   },
   "file_extension": ".py",
   "mimetype": "text/x-python",
   "name": "python",
   "nbconvert_exporter": "python",
   "pygments_lexer": "ipython3",
   "version": "3.12.7"
  }
 },
 "nbformat": 4,
 "nbformat_minor": 5
}
